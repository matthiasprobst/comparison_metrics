{
 "cells": [
  {
   "cell_type": "markdown",
   "id": "6a6a4bcd-33a1-4dc5-9335-c2e0a4b41049",
   "metadata": {},
   "source": [
    "# Getting started"
   ]
  },
  {
   "cell_type": "code",
   "execution_count": null,
   "id": "a8d56bf3-efa8-4caf-b752-915f1fa14f08",
   "metadata": {},
   "outputs": [],
   "source": [
    "import matplotlib.pyplot as plt\n",
    "import xarray as xr\n",
    "import numpy as np"
   ]
  },
  {
   "cell_type": "markdown",
   "id": "46f50f89-2f56-4803-828e-21f4413b2859",
   "metadata": {},
   "source": [
    "`comparison_metrics` can be best used thorugh the `xarray` accessor. Comparison methods are available for `xarray` `DataArray` objects. We will also need other functionality from the package, so we import it, too:"
   ]
  },
  {
   "cell_type": "code",
   "execution_count": null,
   "id": "ca333d4f-e26d-4088-938a-b56fa6f47e77",
   "metadata": {},
   "outputs": [],
   "source": [
    "from comparson_metrics import cmp_xarray\n",
    "import comparson_metrics as cmp"
   ]
  },
  {
   "cell_type": "markdown",
   "id": "6c26b93f-ecbf-48c9-87c9-986660aa8f92",
   "metadata": {},
   "source": [
    "## Comparing 1D signals\n",
    "\n",
    "The package comes with tutorial datasets:"
   ]
  },
  {
   "cell_type": "code",
   "execution_count": null,
   "id": "b7beb5d9-7d2e-454f-8922-b3b6f4398f86",
   "metadata": {},
   "outputs": [],
   "source": [
    "s1, s2 = cmp.tutorial.load_dataset('1d_signals')  # returns two xarray Data Array objects\n",
    "s1"
   ]
  },
  {
   "cell_type": "markdown",
   "id": "d8ae9ffb-9a63-415f-8a24-ed4d51b04153",
   "metadata": {},
   "source": [
    "Plot data arrays and note, that x data location not always agree and one signal data point is missing and masked with `np.nan`, thus line is not drawn"
   ]
  },
  {
   "cell_type": "code",
   "execution_count": null,
   "id": "36b50dc4-ab4c-44e0-829f-9b3779af263b",
   "metadata": {},
   "outputs": [],
   "source": [
    "plt.figure()\n",
    "s1.plot(linestyle='--', marker='o', color='k', label='s1')\n",
    "s2.plot(linestyle='--', marker='o', color='r', label='s2')\n",
    "plt.title('')\n",
    "plt.ylabel('signal strenght [a.u.]')\n",
    "plt.legend()\n",
    "plt.show()"
   ]
  },
  {
   "cell_type": "markdown",
   "id": "81af437b-fdc9-4b0f-851a-98e6515138a1",
   "metadata": {},
   "source": [
    "## Computing the absolute error\n",
    "\n",
    "The absolute error or simply the difference between observation and prediction\n",
    "\\begin{equation}\n",
    "d = s_1-s_2\n",
    "\\end{equation}\n",
    "between both signals, although x-coordinates are different and a data point is \"s2\" is missing (`np.nan`), can be computed as follows:"
   ]
  },
  {
   "cell_type": "code",
   "execution_count": null,
   "id": "56712811-b08e-4da8-8e66-87bf47975536",
   "metadata": {},
   "outputs": [],
   "source": [
    "d = s1.cmp.compute_metric(s2, 'AE')\n",
    "d"
   ]
  },
  {
   "cell_type": "markdown",
   "id": "0895004f-3cac-4954-a319-4ef8ae8933cb",
   "metadata": {},
   "source": [
    "The logger statement shows, that the \"observation\" was interpolated onto the \"prediction\". \"Observation\" is **s1** and \"prediction\" is **s2**. Interpolation is done this way because the number of data points in observation is higher:"
   ]
  },
  {
   "cell_type": "code",
   "execution_count": null,
   "id": "dcbdd2c4-893c-41e9-b961-e75c85591a75",
   "metadata": {},
   "outputs": [],
   "source": [
    "d.cmp.interpolation_direction"
   ]
  },
  {
   "cell_type": "markdown",
   "id": "1b6b4766-a27f-4265-9b24-728e78700722",
   "metadata": {},
   "source": [
    "The information is also stored as `xarray.DataArray` attribute:"
   ]
  },
  {
   "cell_type": "code",
   "execution_count": null,
   "id": "eebe6d16-6cbd-45c9-9b98-b846ea4875be",
   "metadata": {},
   "outputs": [],
   "source": [
    "d.interpolation_direction"
   ]
  },
  {
   "cell_type": "markdown",
   "id": "ea813d58-28ca-406e-b8dd-f09a4a531788",
   "metadata": {},
   "source": [
    "Visual inspection by plotting both signals and the difference:"
   ]
  },
  {
   "cell_type": "code",
   "execution_count": null,
   "id": "f9ac1672-18be-414f-947a-666c2512d7d2",
   "metadata": {},
   "outputs": [],
   "source": [
    "s1.plot(linestyle='--', marker='o', color='k', label='s1')\n",
    "s2.plot(linestyle='--', marker='o', color='r', label='s2')\n",
    "d.AE.plot(linestyle='--', marker='o', color='g', label='AE')\n",
    "plt.ylabel('Signal and AE')\n",
    "plt.legend()"
   ]
  },
  {
   "cell_type": "markdown",
   "id": "2d96dc58-4590-4981-b43d-f8ce693c164e",
   "metadata": {},
   "source": [
    "The accessor has a plotting function, too:"
   ]
  },
  {
   "cell_type": "code",
   "execution_count": null,
   "id": "fb721bdf-2cae-4990-86f9-6af18915216b",
   "metadata": {},
   "outputs": [],
   "source": [
    "d.cmp._obj.data_vars"
   ]
  },
  {
   "cell_type": "code",
   "execution_count": null,
   "id": "1d3dfdb5-a1a7-4157-b541-9f6ec962617b",
   "metadata": {},
   "outputs": [],
   "source": [
    "_ = d.cmp.plot(figsize=(10, 4), marker='o', color='k')"
   ]
  },
  {
   "cell_type": "markdown",
   "id": "4c3709cb-5fff-4d2e-84b5-fe8fc9e6b400",
   "metadata": {},
   "source": [
    "## Vortex core (2d velocity field)"
   ]
  },
  {
   "cell_type": "code",
   "execution_count": null,
   "id": "1fbb99ee-a123-4dba-bf08-9bf6cebf4cc5",
   "metadata": {},
   "outputs": [],
   "source": [
    "ds1 = cmp.tutorial.load_dataset('vortex1')\n",
    "ds2 = cmp.tutorial.load_dataset('vortex2')"
   ]
  },
  {
   "cell_type": "code",
   "execution_count": null,
   "id": "f04f563b-9c33-4ac8-9e34-c234929ed564",
   "metadata": {},
   "outputs": [],
   "source": [
    "vortex_diff = ds2.u.cmp.compute_metric(ds1.magnitude, 'AE')"
   ]
  },
  {
   "cell_type": "code",
   "execution_count": null,
   "id": "8440dd36-a4c9-4af8-805b-83b1b098811d",
   "metadata": {},
   "outputs": [],
   "source": [
    "vortex_diff.cmp.plot((14, 4), vmin=-1, vmax=1)"
   ]
  },
  {
   "cell_type": "code",
   "execution_count": null,
   "id": "9b8363da-1eb2-46e3-b785-eb30a072d55a",
   "metadata": {},
   "outputs": [],
   "source": [
    "vortex_diff.cmp.contourf((14, 4))"
   ]
  },
  {
   "cell_type": "markdown",
   "id": "be0327aa-7e39-4a30-8509-7e85e2c9a57b",
   "metadata": {
    "tags": []
   },
   "source": [
    "# Comparison Metrics for vector fields\n",
    "\n",
    "On the `xr.Dataset` call `compute_metric`, provide the other dataset, the metric name and the vector components."
   ]
  },
  {
   "cell_type": "code",
   "execution_count": null,
   "id": "7040b61a-0c45-4794-b98e-a5ab36131d53",
   "metadata": {},
   "outputs": [],
   "source": [
    "cmp.metrics.metric_dict"
   ]
  },
  {
   "cell_type": "markdown",
   "id": "d8ad36a5-7694-42be-9061-4daf6b5e58c8",
   "metadata": {},
   "source": [
    "## Local metric: Relevance Index\n",
    "A local metric returns a scalar data variable with the same size/shape of common input data.<br>\n",
    "The relevance index computes the cosine between the vectors. More information is stored in the attributes of the comparison value in the dataset.<br> In the example, the datasets are interpolated onto each other (depending which one has the higher resolution. The higher resolved dataset is interpolated on the coarser)"
   ]
  },
  {
   "cell_type": "code",
   "execution_count": null,
   "id": "6e716d2c-dc75-4c80-b795-bbd58b2862a3",
   "metadata": {},
   "outputs": [],
   "source": [
    "cmp = ds1.cmp.compute_metric(ds2, 'RI', ('u', 'v'))"
   ]
  },
  {
   "cell_type": "code",
   "execution_count": null,
   "id": "5f209016-71e6-40aa-8dc6-b97ae0b5a8eb",
   "metadata": {},
   "outputs": [],
   "source": [
    "cmp"
   ]
  },
  {
   "cell_type": "code",
   "execution_count": null,
   "id": "40ee7c6b-b176-4a24-8915-a8b465408d71",
   "metadata": {},
   "outputs": [],
   "source": [
    "cmp.RI.plot()"
   ]
  },
  {
   "cell_type": "markdown",
   "id": "fe57919b-642a-4eb6-9342-3db7b07a0144",
   "metadata": {},
   "source": [
    "## Global metric: MAE\n",
    "A global metric returns a *single* value for a comparison. In this example, the MAE (Mean average error) is computed"
   ]
  },
  {
   "cell_type": "code",
   "execution_count": null,
   "id": "1436322f-791b-48e0-9ba2-bb0be2226182",
   "metadata": {},
   "outputs": [],
   "source": [
    "cmp = ds1.u.cmp.compute_metric(ds2.u, 'MAE')"
   ]
  },
  {
   "cell_type": "code",
   "execution_count": null,
   "id": "d86ac8f7-7ded-4638-aefb-74ad5f149593",
   "metadata": {},
   "outputs": [],
   "source": [
    "cmp"
   ]
  },
  {
   "cell_type": "code",
   "execution_count": null,
   "id": "294dcca7-b5ae-46ab-8965-1fbdff024e9a",
   "metadata": {},
   "outputs": [],
   "source": [
    "cmp.MAE"
   ]
  },
  {
   "cell_type": "code",
   "execution_count": null,
   "id": "1783f353-e74e-4b31-a413-89dc3281e787",
   "metadata": {},
   "outputs": [],
   "source": [
    "cmp"
   ]
  },
  {
   "cell_type": "markdown",
   "id": "c505045b-d287-4635-b36d-a570f540c1d0",
   "metadata": {},
   "source": [
    "## Getting bibtex of a metric\n",
    "Each metric has an attribute `bibtex` containing a list of bibtex strings of publications where the metric is mentioned. **Note, that this very likely is not a complete list!** Some trivial metrics may not have a bibtex at all. Please, feel free to add publications where the method is mentioned an is not yet registered in this package."
   ]
  },
  {
   "cell_type": "code",
   "execution_count": null,
   "id": "82778742-480b-4c4e-82bf-250967d385b8",
   "metadata": {},
   "outputs": [],
   "source": [
    "from comparson_metrics.metrics import RI"
   ]
  },
  {
   "cell_type": "markdown",
   "id": "7aafb031-669d-424c-8857-9931d5701121",
   "metadata": {},
   "source": [
    "Initialize a comparison method and call `get_bibtex()`. This will return a list of bibtex strings. **Note, that this very likely is not a complete list!**"
   ]
  },
  {
   "cell_type": "code",
   "execution_count": null,
   "id": "76d656cb-f8a6-4a2f-ba6a-3c5a6aa3bd7b",
   "metadata": {},
   "outputs": [],
   "source": [
    "RI().get_bibtex()"
   ]
  },
  {
   "cell_type": "code",
   "execution_count": null,
   "id": "d51a7ab6-7d7b-4392-981e-cdf657715226",
   "metadata": {},
   "outputs": [],
   "source": []
  }
 ],
 "metadata": {
  "kernelspec": {
   "display_name": "Python 3 (ipykernel)",
   "language": "python",
   "name": "python3"
  },
  "language_info": {
   "codemirror_mode": {
    "name": "ipython",
    "version": 3
   },
   "file_extension": ".py",
   "mimetype": "text/x-python",
   "name": "python",
   "nbconvert_exporter": "python",
   "pygments_lexer": "ipython3",
   "version": "3.7.9"
  }
 },
 "nbformat": 4,
 "nbformat_minor": 5
}
